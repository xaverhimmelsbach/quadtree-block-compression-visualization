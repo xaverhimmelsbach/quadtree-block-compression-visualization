{
 "cells": [
  {
   "cell_type": "code",
   "execution_count": 13,
   "metadata": {},
   "outputs": [],
   "source": [
    "# Imports\n",
    "import run_utils\n",
    "from plain_run import plain_run\n",
    "from skip_oob_run import skip_oob_run\n",
    "from sampler_run import sampler_run\n",
    "from similarity_run import similarity_run\n",
    "from compression_run import compression_run\n",
    "from deduplication_run import deduplication_run\n",
    "from parallel_run import parallel_run\n"
   ]
  },
  {
   "cell_type": "code",
   "execution_count": 7,
   "metadata": {},
   "outputs": [
    {
     "data": {
      "text/plain": [
       "b'Encoding image file\\nEncoded ./data/input/test_medium.png as a quadtree image and wrote it to ./data/output/out\\nWrote analytics files to data/analytics/1677500976\\n'"
      ]
     },
     "execution_count": 7,
     "metadata": {},
     "output_type": "execute_result"
    }
   ],
   "source": [
    "# Test Run\n",
    "run_utils.run('./data/input/test_medium.png',\n",
    "              similarity_cutoff='0.5',\n",
    "              downsampling_interpolator='ApproxBiLinear',\n",
    "              upsampling_interpolator='ApproxBiLinear',\n",
    "              archive_format='zip',\n",
    "              encoding_parallelism='False',\n",
    "              skip_oob_blocks='False',\n",
    "              deduplicate_blocks_enable='False',\n",
    "              deduplicate_blocks_minimal_similarity='0.5',\n",
    "              decoding_parallelism='False',\n",
    "              visualization=True)"
   ]
  },
  {
   "cell_type": "code",
   "execution_count": 8,
   "metadata": {},
   "outputs": [
    {
     "name": "stdout",
     "output_type": "stream",
     "text": [
      "test_black_white.png\n",
      "test_detail_high.png\n",
      "test_fine_print.png\n",
      "test_large.png\n",
      "test_pixel.png\n",
      "test_tiny.png\n",
      "test_color.png\n",
      "test_detail_low.png\n",
      "test_gradient.png\n",
      "test_medium.png\n",
      "test_small.png\n"
     ]
    }
   ],
   "source": [
    "# Plain run\n",
    "for input_file in run_utils.INPUT_FILES:\n",
    "    print(input_file)\n",
    "    plain_run(input_file)\n"
   ]
  },
  {
   "cell_type": "code",
   "execution_count": null,
   "metadata": {},
   "outputs": [],
   "source": [
    "# Skip OOB run\n",
    "for input_file in run_utils.INPUT_FILES:\n",
    "    print(input_file)\n",
    "    skip_oob_run(input_file)\n"
   ]
  },
  {
   "cell_type": "code",
   "execution_count": null,
   "metadata": {},
   "outputs": [],
   "source": [
    "# Sampler run\n",
    "for input_file in run_utils.INPUT_FILES:\n",
    "    print(input_file)\n",
    "    sampler_run(input_file)\n"
   ]
  },
  {
   "cell_type": "code",
   "execution_count": null,
   "metadata": {},
   "outputs": [],
   "source": [
    "# Similarity run\n",
    "for input_file in run_utils.INPUT_FILES:\n",
    "    print(input_file)\n",
    "    similarity_run(input_file)\n"
   ]
  },
  {
   "cell_type": "code",
   "execution_count": 10,
   "metadata": {},
   "outputs": [
    {
     "name": "stdout",
     "output_type": "stream",
     "text": [
      "test_black_white.png\n",
      "zip\n",
      "gzip\n",
      "test_detail_high.png\n",
      "zip\n",
      "gzip\n",
      "test_fine_print.png\n",
      "zip\n",
      "gzip\n"
     ]
    },
    {
     "ename": "KeyboardInterrupt",
     "evalue": "",
     "output_type": "error",
     "traceback": [
      "\u001b[0;31m---------------------------------------------------------------------------\u001b[0m",
      "\u001b[0;31mKeyboardInterrupt\u001b[0m                         Traceback (most recent call last)",
      "\u001b[1;32m/home/xaver/Documents/quadtree-block-compression-visualization/measurements/run_tests.ipynb Cell 7\u001b[0m in \u001b[0;36m<cell line: 2>\u001b[0;34m()\u001b[0m\n\u001b[1;32m      <a href='vscode-notebook-cell:/home/xaver/Documents/quadtree-block-compression-visualization/measurements/run_tests.ipynb#W6sZmlsZQ%3D%3D?line=1'>2</a>\u001b[0m \u001b[39mfor\u001b[39;00m input_file \u001b[39min\u001b[39;00m run_utils\u001b[39m.\u001b[39mINPUT_FILES:\n\u001b[1;32m      <a href='vscode-notebook-cell:/home/xaver/Documents/quadtree-block-compression-visualization/measurements/run_tests.ipynb#W6sZmlsZQ%3D%3D?line=2'>3</a>\u001b[0m     \u001b[39mprint\u001b[39m(input_file)\n\u001b[0;32m----> <a href='vscode-notebook-cell:/home/xaver/Documents/quadtree-block-compression-visualization/measurements/run_tests.ipynb#W6sZmlsZQ%3D%3D?line=3'>4</a>\u001b[0m     compression_run(input_file)\n",
      "File \u001b[0;32m~/Documents/quadtree-block-compression-visualization/measurements/compression_run.py:9\u001b[0m, in \u001b[0;36mcompression_run\u001b[0;34m(input_file)\u001b[0m\n\u001b[1;32m      7\u001b[0m \u001b[39mfor\u001b[39;00m archive_format \u001b[39min\u001b[39;00m ARCHIVE_FORMAT:\n\u001b[1;32m      8\u001b[0m     \u001b[39mprint\u001b[39m(archive_format)\n\u001b[0;32m----> 9\u001b[0m     run_visualization_and_timings(input_path,\n\u001b[1;32m     10\u001b[0m                                   name\u001b[39m=\u001b[39;49m\u001b[39mf\u001b[39;49m\u001b[39m'\u001b[39;49m\u001b[39mcompression_\u001b[39;49m\u001b[39m{\u001b[39;49;00marchive_format\u001b[39m}\u001b[39;49;00m\u001b[39m_run\u001b[39;49m\u001b[39m'\u001b[39;49m,\n\u001b[1;32m     11\u001b[0m                                   similarity_cutoff\u001b[39m=\u001b[39;49m\u001b[39m'\u001b[39;49m\u001b[39m0.5\u001b[39;49m\u001b[39m'\u001b[39;49m,\n\u001b[1;32m     12\u001b[0m                                   downsampling_interpolator\u001b[39m=\u001b[39;49m\u001b[39m'\u001b[39;49m\u001b[39mApproxBiLinear\u001b[39;49m\u001b[39m'\u001b[39;49m,\n\u001b[1;32m     13\u001b[0m                                   upsampling_interpolator\u001b[39m=\u001b[39;49m\u001b[39m'\u001b[39;49m\u001b[39mApproxBiLinear\u001b[39;49m\u001b[39m'\u001b[39;49m,\n\u001b[1;32m     14\u001b[0m                                   archive_format\u001b[39m=\u001b[39;49marchive_format,\n\u001b[1;32m     15\u001b[0m                                   encoding_parallelism\u001b[39m=\u001b[39;49m\u001b[39m'\u001b[39;49m\u001b[39mFalse\u001b[39;49m\u001b[39m'\u001b[39;49m,\n\u001b[1;32m     16\u001b[0m                                   skip_oob_blocks\u001b[39m=\u001b[39;49m\u001b[39m'\u001b[39;49m\u001b[39mFalse\u001b[39;49m\u001b[39m'\u001b[39;49m,\n\u001b[1;32m     17\u001b[0m                                   deduplicate_blocks_enable\u001b[39m=\u001b[39;49m\u001b[39m'\u001b[39;49m\u001b[39mFalse\u001b[39;49m\u001b[39m'\u001b[39;49m,\n\u001b[1;32m     18\u001b[0m                                   deduplicate_blocks_minimal_similarity\u001b[39m=\u001b[39;49m\u001b[39m'\u001b[39;49m\u001b[39m0.5\u001b[39;49m\u001b[39m'\u001b[39;49m,\n\u001b[1;32m     19\u001b[0m                                   decoding_parallelism\u001b[39m=\u001b[39;49m\u001b[39m'\u001b[39;49m\u001b[39mFalse\u001b[39;49m\u001b[39m'\u001b[39;49m)\n",
      "File \u001b[0;32m~/Documents/quadtree-block-compression-visualization/measurements/run_utils.py:102\u001b[0m, in \u001b[0;36mrun_visualization_and_timings\u001b[0;34m(input_path, name, similarity_cutoff, downsampling_interpolator, upsampling_interpolator, archive_format, encoding_parallelism, skip_oob_blocks, deduplicate_blocks_enable, deduplicate_blocks_minimal_similarity, decoding_parallelism)\u001b[0m\n\u001b[1;32m     99\u001b[0m \u001b[39mdef\u001b[39;00m \u001b[39mrun_visualization_and_timings\u001b[39m(input_path, name, similarity_cutoff, downsampling_interpolator, upsampling_interpolator, archive_format, encoding_parallelism, skip_oob_blocks, deduplicate_blocks_enable, deduplicate_blocks_minimal_similarity, decoding_parallelism):\n\u001b[1;32m    100\u001b[0m     \u001b[39m# Visualization run\u001b[39;00m\n\u001b[1;32m    101\u001b[0m     visualization \u001b[39m=\u001b[39m \u001b[39m'\u001b[39m\u001b[39mTrue\u001b[39m\u001b[39m'\u001b[39m\n\u001b[0;32m--> 102\u001b[0m     result \u001b[39m=\u001b[39m run(input_path, similarity_cutoff, downsampling_interpolator, upsampling_interpolator, archive_format, encoding_parallelism,\n\u001b[1;32m    103\u001b[0m         skip_oob_blocks, deduplicate_blocks_enable, deduplicate_blocks_minimal_similarity, decoding_parallelism, visualization)\n\u001b[1;32m    105\u001b[0m     analytics \u001b[39m=\u001b[39m re\u001b[39m.\u001b[39msearch(\u001b[39m'\u001b[39m\u001b[39mdata\u001b[39m\u001b[39m\\\u001b[39m\u001b[39m/analytics\u001b[39m\u001b[39m\\\u001b[39m\u001b[39m/(\u001b[39m\u001b[39m\\\u001b[39m\u001b[39md+)\u001b[39m\u001b[39m'\u001b[39m, result\u001b[39m.\u001b[39mdecode(\u001b[39m\"\u001b[39m\u001b[39mutf-8\u001b[39m\u001b[39m\"\u001b[39m))\n\u001b[1;32m    107\u001b[0m     \u001b[39mif\u001b[39;00m analytics \u001b[39mis\u001b[39;00m \u001b[39mNone\u001b[39;00m:\n",
      "File \u001b[0;32m~/Documents/quadtree-block-compression-visualization/measurements/run_utils.py:91\u001b[0m, in \u001b[0;36mrun\u001b[0;34m(input_path, similarity_cutoff, downsampling_interpolator, upsampling_interpolator, archive_format, encoding_parallelism, skip_oob_blocks, deduplicate_blocks_enable, deduplicate_blocks_minimal_similarity, decoding_parallelism, visualization)\u001b[0m\n\u001b[1;32m     87\u001b[0m     yaml\u001b[39m.\u001b[39mdump(config_yaml, file)\n\u001b[1;32m     89\u001b[0m output \u001b[39m=\u001b[39m \u001b[39m'\u001b[39m\u001b[39m./data/output/out\u001b[39m\u001b[39m'\u001b[39m\n\u001b[0;32m---> 91\u001b[0m result \u001b[39m=\u001b[39m subprocess\u001b[39m.\u001b[39;49mcheck_output(\n\u001b[1;32m     92\u001b[0m     \u001b[39mf\u001b[39;49m\u001b[39m'\u001b[39;49m\u001b[39m./codec -input \u001b[39;49m\u001b[39m{\u001b[39;49;00minput_path\u001b[39m}\u001b[39;49;00m\u001b[39m -output \u001b[39;49m\u001b[39m{\u001b[39;49;00moutput\u001b[39m}\u001b[39;49;00m\u001b[39m -analyticsDir ./data/analytics -config ./configs/config.yml\u001b[39;49m\u001b[39m'\u001b[39;49m,\n\u001b[1;32m     93\u001b[0m     shell\u001b[39m=\u001b[39;49m\u001b[39mTrue\u001b[39;49;00m)\n\u001b[1;32m     95\u001b[0m os\u001b[39m.\u001b[39mremove(CONFIG_YAML_PATH)\n\u001b[1;32m     97\u001b[0m \u001b[39mreturn\u001b[39;00m result\n",
      "File \u001b[0;32m/nix/store/zdba9frlxj2ba8ca095win3nphsiiqhb-python3-3.10.8/lib/python3.10/subprocess.py:421\u001b[0m, in \u001b[0;36mcheck_output\u001b[0;34m(timeout, *popenargs, **kwargs)\u001b[0m\n\u001b[1;32m    418\u001b[0m         empty \u001b[39m=\u001b[39m \u001b[39mb\u001b[39m\u001b[39m'\u001b[39m\u001b[39m'\u001b[39m\n\u001b[1;32m    419\u001b[0m     kwargs[\u001b[39m'\u001b[39m\u001b[39minput\u001b[39m\u001b[39m'\u001b[39m] \u001b[39m=\u001b[39m empty\n\u001b[0;32m--> 421\u001b[0m \u001b[39mreturn\u001b[39;00m run(\u001b[39m*\u001b[39;49mpopenargs, stdout\u001b[39m=\u001b[39;49mPIPE, timeout\u001b[39m=\u001b[39;49mtimeout, check\u001b[39m=\u001b[39;49m\u001b[39mTrue\u001b[39;49;00m,\n\u001b[1;32m    422\u001b[0m            \u001b[39m*\u001b[39;49m\u001b[39m*\u001b[39;49mkwargs)\u001b[39m.\u001b[39mstdout\n",
      "File \u001b[0;32m/nix/store/zdba9frlxj2ba8ca095win3nphsiiqhb-python3-3.10.8/lib/python3.10/subprocess.py:505\u001b[0m, in \u001b[0;36mrun\u001b[0;34m(input, capture_output, timeout, check, *popenargs, **kwargs)\u001b[0m\n\u001b[1;32m    503\u001b[0m \u001b[39mwith\u001b[39;00m Popen(\u001b[39m*\u001b[39mpopenargs, \u001b[39m*\u001b[39m\u001b[39m*\u001b[39mkwargs) \u001b[39mas\u001b[39;00m process:\n\u001b[1;32m    504\u001b[0m     \u001b[39mtry\u001b[39;00m:\n\u001b[0;32m--> 505\u001b[0m         stdout, stderr \u001b[39m=\u001b[39m process\u001b[39m.\u001b[39;49mcommunicate(\u001b[39minput\u001b[39;49m, timeout\u001b[39m=\u001b[39;49mtimeout)\n\u001b[1;32m    506\u001b[0m     \u001b[39mexcept\u001b[39;00m TimeoutExpired \u001b[39mas\u001b[39;00m exc:\n\u001b[1;32m    507\u001b[0m         process\u001b[39m.\u001b[39mkill()\n",
      "File \u001b[0;32m/nix/store/zdba9frlxj2ba8ca095win3nphsiiqhb-python3-3.10.8/lib/python3.10/subprocess.py:1141\u001b[0m, in \u001b[0;36mPopen.communicate\u001b[0;34m(self, input, timeout)\u001b[0m\n\u001b[1;32m   1139\u001b[0m     \u001b[39mself\u001b[39m\u001b[39m.\u001b[39m_stdin_write(\u001b[39minput\u001b[39m)\n\u001b[1;32m   1140\u001b[0m \u001b[39melif\u001b[39;00m \u001b[39mself\u001b[39m\u001b[39m.\u001b[39mstdout:\n\u001b[0;32m-> 1141\u001b[0m     stdout \u001b[39m=\u001b[39m \u001b[39mself\u001b[39;49m\u001b[39m.\u001b[39;49mstdout\u001b[39m.\u001b[39;49mread()\n\u001b[1;32m   1142\u001b[0m     \u001b[39mself\u001b[39m\u001b[39m.\u001b[39mstdout\u001b[39m.\u001b[39mclose()\n\u001b[1;32m   1143\u001b[0m \u001b[39melif\u001b[39;00m \u001b[39mself\u001b[39m\u001b[39m.\u001b[39mstderr:\n",
      "\u001b[0;31mKeyboardInterrupt\u001b[0m: "
     ]
    }
   ],
   "source": [
    "# Compression run\n",
    "for input_file in run_utils.INPUT_FILES:\n",
    "    print(input_file)\n",
    "    compression_run(input_file)\n"
   ]
  },
  {
   "cell_type": "code",
   "execution_count": 12,
   "metadata": {},
   "outputs": [
    {
     "name": "stdout",
     "output_type": "stream",
     "text": [
      "test_black_white.png\n",
      "0.0\n",
      "0.1\n",
      "0.2\n",
      "0.3\n",
      "0.4\n",
      "0.5\n",
      "0.6\n",
      "0.7\n",
      "0.8\n",
      "0.9\n",
      "1.0\n",
      "test_detail_high.png\n",
      "0.0\n",
      "0.1\n",
      "0.2\n",
      "0.3\n",
      "0.4\n",
      "0.5\n"
     ]
    },
    {
     "ename": "KeyboardInterrupt",
     "evalue": "",
     "output_type": "error",
     "traceback": [
      "\u001b[0;31m---------------------------------------------------------------------------\u001b[0m",
      "\u001b[0;31mKeyboardInterrupt\u001b[0m                         Traceback (most recent call last)",
      "\u001b[1;32m/home/xaver/Documents/quadtree-block-compression-visualization/measurements/run_tests.ipynb Cell 8\u001b[0m in \u001b[0;36m<cell line: 1>\u001b[0;34m()\u001b[0m\n\u001b[1;32m      <a href='vscode-notebook-cell:/home/xaver/Documents/quadtree-block-compression-visualization/measurements/run_tests.ipynb#X10sZmlsZQ%3D%3D?line=0'>1</a>\u001b[0m \u001b[39mfor\u001b[39;00m input_file \u001b[39min\u001b[39;00m run_utils\u001b[39m.\u001b[39mINPUT_FILES:\n\u001b[1;32m      <a href='vscode-notebook-cell:/home/xaver/Documents/quadtree-block-compression-visualization/measurements/run_tests.ipynb#X10sZmlsZQ%3D%3D?line=1'>2</a>\u001b[0m         \u001b[39mprint\u001b[39m(input_file)\n\u001b[0;32m----> <a href='vscode-notebook-cell:/home/xaver/Documents/quadtree-block-compression-visualization/measurements/run_tests.ipynb#X10sZmlsZQ%3D%3D?line=2'>3</a>\u001b[0m         deduplication_run(input_file)\n",
      "File \u001b[0;32m~/Documents/quadtree-block-compression-visualization/measurements/deduplication_run.py:9\u001b[0m, in \u001b[0;36mdeduplication_run\u001b[0;34m(input_file)\u001b[0m\n\u001b[1;32m      7\u001b[0m \u001b[39mfor\u001b[39;00m similarity \u001b[39min\u001b[39;00m SIMILARITIES:\n\u001b[1;32m      8\u001b[0m     \u001b[39mprint\u001b[39m(similarity)\n\u001b[0;32m----> 9\u001b[0m     run_visualization_and_timings(input_path,\n\u001b[1;32m     10\u001b[0m                                   name\u001b[39m=\u001b[39;49m\u001b[39mf\u001b[39;49m\u001b[39m'\u001b[39;49m\u001b[39mdeduplication_\u001b[39;49m\u001b[39m{\u001b[39;49;00msimilarity\u001b[39m}\u001b[39;49;00m\u001b[39m_run\u001b[39;49m\u001b[39m'\u001b[39;49m,\n\u001b[1;32m     11\u001b[0m                                   similarity_cutoff\u001b[39m=\u001b[39;49m\u001b[39m'\u001b[39;49m\u001b[39m0.85\u001b[39;49m\u001b[39m'\u001b[39;49m,\n\u001b[1;32m     12\u001b[0m                                   downsampling_interpolator\u001b[39m=\u001b[39;49m\u001b[39m'\u001b[39;49m\u001b[39mApproxBiLinear\u001b[39;49m\u001b[39m'\u001b[39;49m,\n\u001b[1;32m     13\u001b[0m                                   upsampling_interpolator\u001b[39m=\u001b[39;49m\u001b[39m'\u001b[39;49m\u001b[39mApproxBiLinear\u001b[39;49m\u001b[39m'\u001b[39;49m,\n\u001b[1;32m     14\u001b[0m                                   archive_format\u001b[39m=\u001b[39;49m\u001b[39m'\u001b[39;49m\u001b[39mzip\u001b[39;49m\u001b[39m'\u001b[39;49m,\n\u001b[1;32m     15\u001b[0m                                   encoding_parallelism\u001b[39m=\u001b[39;49m\u001b[39m'\u001b[39;49m\u001b[39mFalse\u001b[39;49m\u001b[39m'\u001b[39;49m,\n\u001b[1;32m     16\u001b[0m                                   skip_oob_blocks\u001b[39m=\u001b[39;49m\u001b[39m'\u001b[39;49m\u001b[39mFalse\u001b[39;49m\u001b[39m'\u001b[39;49m,\n\u001b[1;32m     17\u001b[0m                                   deduplicate_blocks_enable\u001b[39m=\u001b[39;49m\u001b[39m'\u001b[39;49m\u001b[39mTrue\u001b[39;49m\u001b[39m'\u001b[39;49m,\n\u001b[1;32m     18\u001b[0m                                   deduplicate_blocks_minimal_similarity\u001b[39m=\u001b[39;49msimilarity,\n\u001b[1;32m     19\u001b[0m                                   decoding_parallelism\u001b[39m=\u001b[39;49m\u001b[39m'\u001b[39;49m\u001b[39mFalse\u001b[39;49m\u001b[39m'\u001b[39;49m)\n",
      "File \u001b[0;32m~/Documents/quadtree-block-compression-visualization/measurements/run_utils.py:102\u001b[0m, in \u001b[0;36mrun_visualization_and_timings\u001b[0;34m(input_path, name, similarity_cutoff, downsampling_interpolator, upsampling_interpolator, archive_format, encoding_parallelism, skip_oob_blocks, deduplicate_blocks_enable, deduplicate_blocks_minimal_similarity, decoding_parallelism)\u001b[0m\n\u001b[1;32m     99\u001b[0m \u001b[39mdef\u001b[39;00m \u001b[39mrun_visualization_and_timings\u001b[39m(input_path, name, similarity_cutoff, downsampling_interpolator, upsampling_interpolator, archive_format, encoding_parallelism, skip_oob_blocks, deduplicate_blocks_enable, deduplicate_blocks_minimal_similarity, decoding_parallelism):\n\u001b[1;32m    100\u001b[0m     \u001b[39m# Visualization run\u001b[39;00m\n\u001b[1;32m    101\u001b[0m     visualization \u001b[39m=\u001b[39m \u001b[39m'\u001b[39m\u001b[39mTrue\u001b[39m\u001b[39m'\u001b[39m\n\u001b[0;32m--> 102\u001b[0m     result \u001b[39m=\u001b[39m run(input_path, similarity_cutoff, downsampling_interpolator, upsampling_interpolator, archive_format, encoding_parallelism,\n\u001b[1;32m    103\u001b[0m         skip_oob_blocks, deduplicate_blocks_enable, deduplicate_blocks_minimal_similarity, decoding_parallelism, visualization)\n\u001b[1;32m    105\u001b[0m     analytics \u001b[39m=\u001b[39m re\u001b[39m.\u001b[39msearch(\u001b[39m'\u001b[39m\u001b[39mdata\u001b[39m\u001b[39m\\\u001b[39m\u001b[39m/analytics\u001b[39m\u001b[39m\\\u001b[39m\u001b[39m/(\u001b[39m\u001b[39m\\\u001b[39m\u001b[39md+)\u001b[39m\u001b[39m'\u001b[39m, result\u001b[39m.\u001b[39mdecode(\u001b[39m\"\u001b[39m\u001b[39mutf-8\u001b[39m\u001b[39m\"\u001b[39m))\n\u001b[1;32m    107\u001b[0m     \u001b[39mif\u001b[39;00m analytics \u001b[39mis\u001b[39;00m \u001b[39mNone\u001b[39;00m:\n",
      "File \u001b[0;32m~/Documents/quadtree-block-compression-visualization/measurements/run_utils.py:91\u001b[0m, in \u001b[0;36mrun\u001b[0;34m(input_path, similarity_cutoff, downsampling_interpolator, upsampling_interpolator, archive_format, encoding_parallelism, skip_oob_blocks, deduplicate_blocks_enable, deduplicate_blocks_minimal_similarity, decoding_parallelism, visualization)\u001b[0m\n\u001b[1;32m     87\u001b[0m     yaml\u001b[39m.\u001b[39mdump(config_yaml, file)\n\u001b[1;32m     89\u001b[0m output \u001b[39m=\u001b[39m \u001b[39m'\u001b[39m\u001b[39m./data/output/out\u001b[39m\u001b[39m'\u001b[39m\n\u001b[0;32m---> 91\u001b[0m result \u001b[39m=\u001b[39m subprocess\u001b[39m.\u001b[39;49mcheck_output(\n\u001b[1;32m     92\u001b[0m     \u001b[39mf\u001b[39;49m\u001b[39m'\u001b[39;49m\u001b[39m./codec -input \u001b[39;49m\u001b[39m{\u001b[39;49;00minput_path\u001b[39m}\u001b[39;49;00m\u001b[39m -output \u001b[39;49m\u001b[39m{\u001b[39;49;00moutput\u001b[39m}\u001b[39;49;00m\u001b[39m -analyticsDir ./data/analytics -config ./configs/config.yml\u001b[39;49m\u001b[39m'\u001b[39;49m,\n\u001b[1;32m     93\u001b[0m     shell\u001b[39m=\u001b[39;49m\u001b[39mTrue\u001b[39;49;00m)\n\u001b[1;32m     95\u001b[0m os\u001b[39m.\u001b[39mremove(CONFIG_YAML_PATH)\n\u001b[1;32m     97\u001b[0m \u001b[39mreturn\u001b[39;00m result\n",
      "File \u001b[0;32m/nix/store/zdba9frlxj2ba8ca095win3nphsiiqhb-python3-3.10.8/lib/python3.10/subprocess.py:421\u001b[0m, in \u001b[0;36mcheck_output\u001b[0;34m(timeout, *popenargs, **kwargs)\u001b[0m\n\u001b[1;32m    418\u001b[0m         empty \u001b[39m=\u001b[39m \u001b[39mb\u001b[39m\u001b[39m'\u001b[39m\u001b[39m'\u001b[39m\n\u001b[1;32m    419\u001b[0m     kwargs[\u001b[39m'\u001b[39m\u001b[39minput\u001b[39m\u001b[39m'\u001b[39m] \u001b[39m=\u001b[39m empty\n\u001b[0;32m--> 421\u001b[0m \u001b[39mreturn\u001b[39;00m run(\u001b[39m*\u001b[39;49mpopenargs, stdout\u001b[39m=\u001b[39;49mPIPE, timeout\u001b[39m=\u001b[39;49mtimeout, check\u001b[39m=\u001b[39;49m\u001b[39mTrue\u001b[39;49;00m,\n\u001b[1;32m    422\u001b[0m            \u001b[39m*\u001b[39;49m\u001b[39m*\u001b[39;49mkwargs)\u001b[39m.\u001b[39mstdout\n",
      "File \u001b[0;32m/nix/store/zdba9frlxj2ba8ca095win3nphsiiqhb-python3-3.10.8/lib/python3.10/subprocess.py:505\u001b[0m, in \u001b[0;36mrun\u001b[0;34m(input, capture_output, timeout, check, *popenargs, **kwargs)\u001b[0m\n\u001b[1;32m    503\u001b[0m \u001b[39mwith\u001b[39;00m Popen(\u001b[39m*\u001b[39mpopenargs, \u001b[39m*\u001b[39m\u001b[39m*\u001b[39mkwargs) \u001b[39mas\u001b[39;00m process:\n\u001b[1;32m    504\u001b[0m     \u001b[39mtry\u001b[39;00m:\n\u001b[0;32m--> 505\u001b[0m         stdout, stderr \u001b[39m=\u001b[39m process\u001b[39m.\u001b[39;49mcommunicate(\u001b[39minput\u001b[39;49m, timeout\u001b[39m=\u001b[39;49mtimeout)\n\u001b[1;32m    506\u001b[0m     \u001b[39mexcept\u001b[39;00m TimeoutExpired \u001b[39mas\u001b[39;00m exc:\n\u001b[1;32m    507\u001b[0m         process\u001b[39m.\u001b[39mkill()\n",
      "File \u001b[0;32m/nix/store/zdba9frlxj2ba8ca095win3nphsiiqhb-python3-3.10.8/lib/python3.10/subprocess.py:1141\u001b[0m, in \u001b[0;36mPopen.communicate\u001b[0;34m(self, input, timeout)\u001b[0m\n\u001b[1;32m   1139\u001b[0m     \u001b[39mself\u001b[39m\u001b[39m.\u001b[39m_stdin_write(\u001b[39minput\u001b[39m)\n\u001b[1;32m   1140\u001b[0m \u001b[39melif\u001b[39;00m \u001b[39mself\u001b[39m\u001b[39m.\u001b[39mstdout:\n\u001b[0;32m-> 1141\u001b[0m     stdout \u001b[39m=\u001b[39m \u001b[39mself\u001b[39;49m\u001b[39m.\u001b[39;49mstdout\u001b[39m.\u001b[39;49mread()\n\u001b[1;32m   1142\u001b[0m     \u001b[39mself\u001b[39m\u001b[39m.\u001b[39mstdout\u001b[39m.\u001b[39mclose()\n\u001b[1;32m   1143\u001b[0m \u001b[39melif\u001b[39;00m \u001b[39mself\u001b[39m\u001b[39m.\u001b[39mstderr:\n",
      "\u001b[0;31mKeyboardInterrupt\u001b[0m: "
     ]
    }
   ],
   "source": [
    "for input_file in run_utils.INPUT_FILES:\n",
    "        print(input_file)\n",
    "        deduplication_run(input_file)"
   ]
  },
  {
   "cell_type": "code",
   "execution_count": null,
   "metadata": {},
   "outputs": [],
   "source": [
    "for input_file in run_utils.INPUT_FILES:\n",
    "    print(input_file)\n",
    "    parallel_run(input_file)\n"
   ]
  }
 ],
 "metadata": {
  "kernelspec": {
   "display_name": "Python 3",
   "language": "python",
   "name": "python3"
  },
  "language_info": {
   "codemirror_mode": {
    "name": "ipython",
    "version": 3
   },
   "file_extension": ".py",
   "mimetype": "text/x-python",
   "name": "python",
   "nbconvert_exporter": "python",
   "pygments_lexer": "ipython3",
   "version": "3.10.8"
  },
  "orig_nbformat": 4,
  "vscode": {
   "interpreter": {
    "hash": "fb901978971640d229c33393f9be448aaf0383b13a8ae99904ee073903d83bad"
   }
  }
 },
 "nbformat": 4,
 "nbformat_minor": 2
}
