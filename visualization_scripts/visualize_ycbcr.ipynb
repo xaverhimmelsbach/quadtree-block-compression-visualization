{
 "cells": [
  {
   "cell_type": "code",
   "execution_count": 2,
   "metadata": {},
   "outputs": [
    {
     "data": {
      "text/plain": [
       "True"
      ]
     },
     "execution_count": 2,
     "metadata": {},
     "output_type": "execute_result"
    }
   ],
   "source": [
    "import numpy as np\n",
    "import cv2\n",
    "\n",
    "# Load image from disk\n",
    "img = cv2.imread('../kodim23.png')\n",
    "\n",
    "# Convert to YCbCr color space\n",
    "img_ycc = cv2.cvtColor(img, cv2.COLOR_BGR2YCrCb)\n",
    "\n",
    "# Extract Y, Cb, and Cr channels\n",
    "y, cb, cr = cv2.split(img_ycc)\n",
    "\n",
    "cv2.imwrite('../kodim23_y.png', y)\n",
    "cv2.imwrite('../kodim23_cb.png', cb)\n",
    "cv2.imwrite('../kodim23_cr.png', cr)"
   ]
  }
 ],
 "metadata": {
  "kernelspec": {
   "display_name": "Python 3",
   "language": "python",
   "name": "python3"
  },
  "language_info": {
   "codemirror_mode": {
    "name": "ipython",
    "version": 3
   },
   "file_extension": ".py",
   "mimetype": "text/x-python",
   "name": "python",
   "nbconvert_exporter": "python",
   "pygments_lexer": "ipython3",
   "version": "3.10.8"
  },
  "orig_nbformat": 4
 },
 "nbformat": 4,
 "nbformat_minor": 2
}
